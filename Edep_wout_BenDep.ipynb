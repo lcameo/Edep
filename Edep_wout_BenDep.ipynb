{
 "cells": [
  {
   "cell_type": "markdown",
   "metadata": {},
   "source": [
    "# Energy Dependance w/out a dependance on the current NPTFit framework. "
   ]
  },
  {
   "cell_type": "markdown",
   "metadata": {},
   "source": [
    "This is a tool used to create a liklyhood function. In order to minimise confusion from the complexity of the NPTFit code, this code will use MC data (photon number and energy) and Multinest to test and create the likelihood function which will be used for the NPTFit analysis package. The desired liklihood funtion will include energy dependance and work on non-poissonian data. \n",
    "\n",
    "This code will begin with the simple case of poissonian statistics for both phton number and energy of the photons. \n"
   ]
  },
  {
   "cell_type": "markdown",
   "metadata": {},
   "source": [
    "The desired modules are imported. "
   ]
  },
  {
   "cell_type": "code",
   "execution_count": 67,
   "metadata": {},
   "outputs": [],
   "source": [
    "%matplotlib inline\n",
    "%load_ext autoreload\n",
    "%autoreload 2\n",
    "\n",
    "from __future__ import print_function\n",
    "\n",
    "import numpy as np\n",
    "import healpy as hp\n",
    "import matplotlib.pyplot as plt\n",
    "from matplotlib import rcParams\n",
    "from math import *\n",
    "\n",
    "from NPTFit import nptfit # module for performing scan\n",
    "from NPTFit import dnds_analysis # module for analysing the output\n",
    "from matplotlib import pyplot as plt # to see plots\n",
    "import scipy.stats as stats\n",
    "import matplotlib.pyplot as plt\n",
    "\n",
    "import pymultinest"
   ]
  },
  {
   "cell_type": "markdown",
   "metadata": {},
   "source": [
    "## Making Data"
   ]
  },
  {
   "cell_type": "markdown",
   "metadata": {},
   "source": [
    "Energy follows a smooth power law. Ben uses broken power laws to explain the location of phtons \n"
   ]
  },
  {
   "cell_type": "code",
   "execution_count": 68,
   "metadata": {},
   "outputs": [],
   "source": [
    "def truncated_power_law(a, m):\n",
    "    E = np.arange(1, m+1,dtype='float') #array of energy values\n",
    "    pmf = 1/E**a                        #math with arrays like numbers, thanks python!\n",
    "    pmf /= pmf.sum()                    #normalizes the distribution\n",
    "    return stats.rv_discrete(values=(range(1, m+1), pmf)) #80/20.. this goes in the 20. keep er movin. \n"
   ]
  },
  {
   "cell_type": "markdown",
   "metadata": {},
   "source": [
    "Spectral Coefficients are those which give weight to energy bins and are defined as follows: The $i^{th}$ specral coefficient for the $i^{th}$ energy bin is:"
   ]
  },
  {
   "cell_type": "markdown",
   "metadata": {},
   "source": [
    "$$\\lambda _i = \\int _ i \\frac{dN}{dE} dE$$ such that $\\frac{dN}{dE} = E^{-\\alpha}$\n",
    "\n"
   ]
  },
  {
   "cell_type": "code",
   "execution_count": 69,
   "metadata": {},
   "outputs": [],
   "source": [
    "def get_spectral_coefficients(a,m):\n",
    "\td = truncated_power_law(a,m)#output \n",
    "\t\n",
    "\tN = 10**4\n",
    "\tsample = d.rvs(size=N)  #is an array of the randomly generated values\n",
    "\n",
    "\tbins = np.arange(m)+0.5   #there will be as many bins as energy values ....+0.5 keep er movin\n",
    "\thist1, _, _ = plt.hist(sample, bins, normed=True)\n",
    "\tplt.title('Photon Energy Distribution')\n",
    "\n",
    "\tfirst_spectral_coeff = sum(hist1[0:(len(bins)-1)/2])\n",
    "\tsecond_spectral_coeff = sum(hist1[(len(bins)-1)/2:len(bins)-1])\n",
    "\n",
    "\treturn first_spectral_coeff, second_spectral_coeff\n"
   ]
  },
  {
   "cell_type": "markdown",
   "metadata": {},
   "source": [
    "The break of the power law occurs at m, and the exponent is a"
   ]
  },
  {
   "cell_type": "code",
   "execution_count": 70,
   "metadata": {},
   "outputs": [
    {
     "name": "stdout",
     "output_type": "stream",
     "text": [
      "first spectral coefficient =  0.591591185616\n",
      "second spectral coefficient =  0.408408814384\n"
     ]
    },
    {
     "data": {
      "image/png": "[encoded data removed]",
      "text/plain": [
       "<matplotlib.figure.Figure at 0x118d1d0d0>"
      ]
     },
     "metadata": {},
     "output_type": "display_data"
    }
   ],
   "source": [
    "a, m = .5, 3 #method for distributing energy data into two bins. found online. where? i dunno either\n",
    "first_spectral_coeff, second_spectral_coeff = get_spectral_coefficients(a,m)\n",
    "print('first spectral coefficient = ', first_spectral_coeff)\n",
    "print('second spectral coefficient = ', second_spectral_coeff)\n"
   ]
  },
  {
   "cell_type": "markdown",
   "metadata": {},
   "source": [
    "Number of exposure regions set. Useful for....\n"
   ]
  },
  {
   "cell_type": "code",
   "execution_count": 71,
   "metadata": {},
   "outputs": [],
   "source": [
    "nside = 2\n",
    "npix = hp.nside2npix(nside)"
   ]
  },
  {
   "cell_type": "markdown",
   "metadata": {},
   "source": [
    "Poissonian data for the number of photons in each bin"
   ]
  },
  {
   "cell_type": "code",
   "execution_count": 72,
   "metadata": {},
   "outputs": [],
   "source": [
    "data = np.random.poisson(1,npix)"
   ]
  },
  {
   "cell_type": "markdown",
   "metadata": {},
   "source": [
    "Split the data up into energy bins, and find max count"
   ]
  },
  {
   "cell_type": "code",
   "execution_count": 73,
   "metadata": {},
   "outputs": [],
   "source": [
    "data_bin1 = data*first_spectral_coeff  #number of photons in the first energy bin according to the power law\n",
    "data_bin2 = data*second_spectral_coeff #number of photons in the second energy bin according to the power law\n",
    "exposure = np.ones(npix)\n",
    "max_counts = np.amax(data)\n",
    "\n",
    "#Note: Fractional number of photons, maybe non physical?"
   ]
  },
  {
   "cell_type": "code",
   "execution_count": 74,
   "metadata": {},
   "outputs": [
    {
     "data": {
      "image/png": "[encoded data removed]",
      "text/plain": [
       "<matplotlib.figure.Figure at 0x11a48abd0>"
      ]
     },
     "metadata": {},
     "output_type": "display_data"
    },
    {
     "data": {
      "image/png": "[encoded data removed]",
      "text/plain": [
       "<matplotlib.figure.Figure at 0x11a48a8d0>"
      ]
     },
     "metadata": {},
     "output_type": "display_data"
    },
    {
     "data": {
      "image/png": "[encoded data removed]",
      "text/plain": [
       "<matplotlib.figure.Figure at 0x11a10ea90>"
      ]
     },
     "metadata": {},
     "output_type": "display_data"
    },
    {
     "data": {
      "image/png": "[encoded data removed]",
      "text/plain": [
       "<matplotlib.figure.Figure at 0x11bf48190>"
      ]
     },
     "metadata": {},
     "output_type": "display_data"
    }
   ],
   "source": [
    "#fig1, (ax1, ax2) = plt.subplots(ncols=2)\n",
    "\n",
    "#plt.axes(ax1)\n",
    "\n",
    "hp.mollview(data_bin1, title=\"Fake Data, photons in energy bin 1\", min=0, max=max_counts)\n",
    "hp.mollview(data_bin2, title='Fake Data, photons in energy bin 2', min=0, max=max_counts)\n",
    "hp.mollview(data, title='Fake Data, total number of photons', min=0, max=max_counts)\n",
    "hp.mollview(data_bin1 + data_bin2, 'Fake Data, photons in energy bin 1 + photons in energy bin 2', min=0, max=max_counts)\n"
   ]
  },
  {
   "cell_type": "code",
   "execution_count": null,
   "metadata": {},
   "outputs": [],
   "source": []
  },
  {
   "cell_type": "markdown",
   "metadata": {},
   "source": [
    "## Log Likelyhood\n"
   ]
  },
  {
   "cell_type": "markdown",
   "metadata": {},
   "source": [
    "First we make some definitions for convience. \n",
    "\n",
    "Mean is an array of the mean number of photons counts in pixel p, it is the usual poissonian parameter.\n",
    "\n",
    "\n",
    "energy_data is the number of photons in each pixel in each bin of energy, it is a 2D array\n",
    "[pixels,energy bins] so energy_data[3,1] is the number of counts in the 4th pixel and 2nd energy bin"
   ]
  },
  {
   "cell_type": "code",
   "execution_count": 75,
   "metadata": {},
   "outputs": [],
   "source": [
    "energy_data = [data_bin1, data_bin2] \n",
    "parameters = [\"mean\",\"spectral_0\",\"spectral_1\"] #mean is an array of the mean number of photons counts in pixel p, it is the usual poissonian parameter\n",
    "n_params = len(parameters)\n",
    "theta_interval = [[0,2],[0.0,1.0],[0.0,1.0]]"
   ]
  },
  {
   "cell_type": "markdown",
   "metadata": {},
   "source": [
    "Define Loglikelyhood function"
   ]
  },
  {
   "cell_type": "code",
   "execution_count": 76,
   "metadata": {},
   "outputs": [],
   "source": [
    "def loglike(cube, ndim, nparams):\n",
    "\n",
    "    ll = 0\n",
    "\n",
    "    for p in range(0,len(energy_data[0])):\n",
    "        #print('pixel ', p)\n",
    "        ll += -cube[0] + data[p]*np.log(cube[0]) - lgamma(data[p] + 1.) #comes from cython and cython doesn't work\n",
    "        for s in range(0,nparams -1): #the first position in theta is the mean, so need not be considered\n",
    "            #print('energy bin ', s)\n",
    "            #print('content of bin = ',energy_data[s][p] )\n",
    "            ll += energy_data[s][p]*cube[s+1]#similarly, the zeroth position is mean - not a specral coeff. \n",
    "\n",
    "    return ll"
   ]
  },
  {
   "cell_type": "markdown",
   "metadata": {},
   "source": [
    "## Analysing w/ Multinest  "
   ]
  },
  {
   "cell_type": "markdown",
   "metadata": {},
   "source": [
    "Multinest requires numerical bounds for analysis, these are extracted from the data in the following way\n"
   ]
  },
  {
   "cell_type": "code",
   "execution_count": 77,
   "metadata": {},
   "outputs": [],
   "source": [
    "def min_and_diff(theta_interval):\n",
    "    min_theta_interval = []\n",
    "    diff_theta_interval = []\n",
    "    \n",
    "    for i in theta_interval:\n",
    "        min_theta_interval.append(i[0])\n",
    "\n",
    "        diff_theta_interval.append(i[1] - i[0])\n",
    "\n",
    "    return min_theta_interval, diff_theta_interval\n",
    "\n",
    "\n",
    "min_theta_interval, diff_theta_interval = min_and_diff(theta_interval)"
   ]
  },
  {
   "cell_type": "raw",
   "metadata": {},
   "source": [
    "Prior Cube makes a parameter space using the min and max from above\n"
   ]
  },
  {
   "cell_type": "code",
   "execution_count": 78,
   "metadata": {},
   "outputs": [],
   "source": [
    "######## from 165 in nptf_scan\n",
    "def prior_cube(cube, ndim=1, nparams=1):\n",
    "    \"\"\" Cube of priors; motivated by format required by MultiNest, but can\n",
    "            be used for different MCMC evaluators\n",
    "    \"\"\"\n",
    "    for i in range(ndim):\n",
    "        cube[i] = cube[i] * diff_theta_interval[i] + min_theta_interval[i]\n",
    "    return cube\n",
    "########"
   ]
  },
  {
   "cell_type": "code",
   "execution_count": 79,
   "metadata": {},
   "outputs": [],
   "source": [
    "pymultinest_options = {'importance_nested_sampling': False,\n",
    "                                   'resume': False, 'verbose': True,\n",
    "                                   'sampling_efficiency': 'model',\n",
    "                                   'init_MPI': False, 'evidence_tolerance': 0.5,\n",
    "                                   'const_efficiency_mode': False}\n",
    "\n",
    "nlive = 500"
   ]
  },
  {
   "cell_type": "markdown",
   "metadata": {},
   "source": [
    "Running Multinest!"
   ]
  },
  {
   "cell_type": "code",
   "execution_count": 80,
   "metadata": {},
   "outputs": [
    {
     "name": "stdout",
     "output_type": "stream",
     "text": [
      "  analysing data from /Users/test/NTPFit/EdepSimple_output/.txt\n"
     ]
    }
   ],
   "source": [
    "pymultinest.run(loglike, prior_cube, n_params, outputfiles_basename='/Users/test/NTPFit/EdepSimple_output/',n_live_points=nlive, **pymultinest_options)\n",
    "\n",
    "a = pymultinest.Analyzer(outputfiles_basename='/Users/test/NTPFit/EdepSimple_output/', n_params = n_params)\n",
    "s = a.get_stats()"
   ]
  },
  {
   "cell_type": "code",
   "execution_count": 81,
   "metadata": {},
   "outputs": [
    {
     "name": "stdout",
     "output_type": "stream",
     "text": [
      "The medians for our parameters are:  {u'log_likelihood': -11.39667490250536, u'parameters': [1.0515666672684385, 0.9998680434859939, 0.99972962117044495]}\n"
     ]
    }
   ],
   "source": [
    "best_fit_params = a.get_best_fit() \n",
    "\n",
    "print('The medians for our parameters are: ', best_fit_params)"
   ]
  },
  {
   "cell_type": "code",
   "execution_count": null,
   "metadata": {},
   "outputs": [],
   "source": []
  },
  {
   "cell_type": "code",
   "execution_count": null,
   "metadata": {},
   "outputs": [],
   "source": []
  }
 ],
 "metadata": {
  "kernelspec": {
   "display_name": "Python 2",
   "language": "python",
   "name": "python2"
  },
  "language_info": {
   "codemirror_mode": {
    "name": "ipython",
    "version": 2
   },
   "file_extension": ".py",
   "mimetype": "text/x-python",
   "name": "python",
   "nbconvert_exporter": "python",
   "pygments_lexer": "ipython2",
   "version": "2.7.10"
  }
 },
 "nbformat": 4,
 "nbformat_minor": 2
}
